{
 "cells": [
  {
   "cell_type": "markdown",
   "id": "aeae6834",
   "metadata": {},
   "source": [
    "# Softmax Regression"
   ]
  },
  {
   "cell_type": "markdown",
   "id": "c68d0502",
   "metadata": {},
   "source": [
    "This guide introduces softmax regression, which is the bread and butter of machine learning when trying to answer categorical classification problems. Building upon the skills we've learnt in [Linear Regression II](https://williampangbest1.github.io/machine_learning/linear_regressionII.html), we will now rely on some built-in functions from PyTorch, as well as wrap our functions using OOP in order to make the code more compact and user-friendly.\n",
    "\n",
    "Here's a sketch of what we will be doing:\n",
    "\n",
    "- **Loading the Fashion MNIST dataset**<br>\n",
    "We will be reading in the Fashion MNIST dataset, which is a collection of 10 different clothing images. As the dataset is quite large (a collection of 70,000 images), we will be using a PyTorch function to read the images in batches.\n",
    "\n",
    "- **Defining the model**<br>\n",
    "The model relates the input and parameters to the output. We will be computing the linear model like before, but with an additional twist: we will also apply a technique that normalizes the outputs of the lienar model into a vector that follows a probability distribution whose total sums up to 1.\n",
    "\n",
    "- **Defining the loss function**<br>\n",
    "The loss function is an algorithim that tell us how well our predictions is doing. Here we will be applying the cross-entropy loss,  which is a measure of the difference between the \"ground-truth\" probability distribution and the  \"prediction\" probability distribution.\n",
    "\n",
    "- **Training the model**<br>\n",
    "This is the part where we make predictions, and iteratively make changes to our parameter predictions so that it gets closer and closer to the \"ground-truth\". To do so we:\n",
    "    - Initialize parameters (slope $m$ and bias term $b$)\n",
    "    - Repeat until done:\n",
    "        - Compute the gradient (i.e., the derivative of the loss function w.r.t parameters) of each batch\n",
    "        - Update our parameters"
   ]
  },
  {
   "cell_type": "markdown",
   "id": "08f884d6",
   "metadata": {},
   "source": [
    "### Loading the Fashion MNIST dataset"
   ]
  },
  {
   "cell_type": "code",
   "execution_count": 2,
   "id": "bac0ad8c",
   "metadata": {},
   "outputs": [],
   "source": [
    "import torch\n",
    "import torch.nn as nn\n",
    "import torch.nn.functional as F\n",
    "import torch.optim as optim \n",
    "import torchvision\n",
    "\n",
    "import matplotlib.pyplot as plt\n",
    "import numpy as np\n",
    "\n",
    "class FashionMNIST:\n",
    "    def __init__(self, batch_size, resize = (28, 28)):\n",
    "        self.batch_size = batch_size\n",
    "        \n",
    "        trans = torchvision.transforms.Compose([torchvision.transforms.Resize(resize),\n",
    "                                    torchvision.transforms.ToTensor()])\n",
    "        \n",
    "        self.train = torchvision.datasets.FashionMNIST(\n",
    "            root=\"../data\", train=True, transform=trans, download=True)\n",
    "        \n",
    "        self.val = torchvision.datasets.FashionMNIST(\n",
    "            root=\"../data\", train=False, transform=trans, download=True)\n",
    "    \n",
    "    def get_dataloader(self, train):\n",
    "        data = self.train if train else self.val\n",
    "        return torch.utils.data.DataLoader(data, self.batch_size, shuffle=train,\n",
    "                                       num_workers= 4)"
   ]
  },
  {
   "cell_type": "markdown",
   "id": "0e666ff5",
   "metadata": {},
   "source": [
    "### Defining the model, loss function"
   ]
  },
  {
   "cell_type": "code",
   "execution_count": 3,
   "id": "11f4872d",
   "metadata": {},
   "outputs": [],
   "source": [
    "class SoftmaxRegression(nn.Module):\n",
    "    def __init__(self, num_inputs, num_outputs, lr, sigma=0.01):\n",
    "        super().__init__()\n",
    "        self.num_inputs = num_inputs\n",
    "        self.num_outputs = num_outputs\n",
    "        self.lr = lr\n",
    "        \n",
    "        # Initialize parameters\n",
    "        self.W = torch.normal(0, sigma, size=(num_inputs, num_outputs),\n",
    "                              requires_grad=True)\n",
    "        self.b = torch.zeros(num_outputs, requires_grad=True)\n",
    "\n",
    "    def forward(self, X):\n",
    "        linear = torch.matmul(X.reshape((-1, self.W.shape[0])), self.W) + self.b\n",
    "        X_exp = torch.exp(linear)\n",
    "        partition = X_exp.sum(1, keepdims = True)\n",
    "        return X_exp/partition\n",
    "        \n",
    "    def loss(self, y_hat, y):\n",
    "        return -torch.log(y_hat[range(len(y_hat)), y]).mean()\n",
    "        \n",
    "    def optimizer(self):\n",
    "        return optim.SGD([self.W, self.b], self.lr) "
   ]
  },
  {
   "cell_type": "markdown",
   "id": "ed57a2d4",
   "metadata": {},
   "source": [
    "### Training the model"
   ]
  },
  {
   "cell_type": "code",
   "execution_count": 4,
   "id": "a56926e1",
   "metadata": {},
   "outputs": [],
   "source": [
    "class Trainer:\n",
    "    def __init__(self, max_epochs):\n",
    "        self.max_epochs = max_epochs\n",
    "        \n",
    "    def prepare_data(self, data):\n",
    "        self.num_train_batches = len(data.get_dataloader(train = True))\n",
    "        self.num_val_batches = len(data.get_dataloader(train = False))\n",
    "        \n",
    "    def prepare_model(self, model):\n",
    "        self.model = model\n",
    "    \n",
    "    def fit(self, model, data):\n",
    "        self.prepare_data(data)\n",
    "        self.prepare_model(model)\n",
    "        self.optim = self.model.optimizer()\n",
    "        \n",
    "        for epoch in range(1, self.max_epochs + 1):\n",
    "                self.fit_epoch()\n",
    "        \n",
    "    def fit_epoch(self):\n",
    "        for batch_index, (X, y) in enumerate(data.get_dataloader(train = True)):\n",
    "            y_hat = self.model(X)\n",
    "            loss = self.model.loss(y_hat, y)\n",
    "            self.optim.zero_grad() \n",
    "            loss.backward()\n",
    "            self.optim.step()"
   ]
  },
  {
   "cell_type": "code",
   "execution_count": 5,
   "id": "730d1d34",
   "metadata": {},
   "outputs": [],
   "source": [
    "data = FashionMNIST(batch_size = 64)\n",
    "model = SoftmaxRegression(num_inputs = 784, num_outputs = 10, lr = 0.1)\n",
    "trainer = Trainer(max_epochs = 10)\n",
    "trainer.fit(model, data)"
   ]
  },
  {
   "cell_type": "code",
   "execution_count": 6,
   "id": "3d057bd3",
   "metadata": {},
   "outputs": [],
   "source": [
    "# Do not refresh as it resets\n",
    "frame = iter(data.get_dataloader(train = False))"
   ]
  },
  {
   "cell_type": "code",
   "execution_count": 23,
   "id": "9595ea8e",
   "metadata": {},
   "outputs": [
    {
     "name": "stdout",
     "output_type": "stream",
     "text": [
      "Accuracy: tensor(0.8750)\n"
     ]
    }
   ],
   "source": [
    "X, y = next(frame)\n",
    "preds = model(X).argmax(axis=1)\n",
    "print('Accuracy:', sum(preds == y)/len(y))"
   ]
  },
  {
   "cell_type": "code",
   "execution_count": 24,
   "id": "6ff3ef1b",
   "metadata": {},
   "outputs": [
    {
     "data": {
      "image/png": "[encoded data removed]",
      "text/plain": [
       "<Figure size 1440x864 with 10 Axes>"
      ]
     },
     "metadata": {
      "needs_background": "light"
     },
     "output_type": "display_data"
    }
   ],
   "source": [
    "labels = ['T-shirt', 'Trouser', 'Pullover', 'Dress', 'Coat',\n",
    "              'Sandal', 'Shirt', 'Sneaker', 'Bag', 'Ankle Boot']\n",
    "\n",
    "fig = plt.figure(figsize=(20,12))\n",
    "for i in range(0,10):\n",
    "    ax = fig.add_subplot(3,5, i+1)\n",
    "    no_channelX = X[:, 0, :, :]\n",
    "    ax.imshow(no_channelX[i])\n",
    "    ax.set_title('Predicted Label: {pred}\\nTrue Label: {true}'.format(pred = labels[preds[i]], true = labels[y[i]]))\n",
    "    #ax.set_title(labels[y[i]])\n",
    "    plt.axis('off')"
   ]
  },
  {
   "cell_type": "code",
   "execution_count": null,
   "id": "ebf0679b",
   "metadata": {},
   "outputs": [],
   "source": []
  }
 ],
 "metadata": {
  "kernelspec": {
   "display_name": "Python 3 (ipykernel)",
   "language": "python",
   "name": "python3"
  },
  "language_info": {
   "codemirror_mode": {
    "name": "ipython",
    "version": 3
   },
   "file_extension": ".py",
   "mimetype": "text/x-python",
   "name": "python",
   "nbconvert_exporter": "python",
   "pygments_lexer": "ipython3",
   "version": "3.9.7"
  }
 },
 "nbformat": 4,
 "nbformat_minor": 5
}

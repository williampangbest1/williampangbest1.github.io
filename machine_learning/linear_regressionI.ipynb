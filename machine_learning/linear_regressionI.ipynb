{
 "cells": [
  {
   "cell_type": "markdown",
   "id": "8a97d95f",
   "metadata": {},
   "source": [
    "# Linear Regression I"
   ]
  },
  {
   "cell_type": "markdown",
   "id": "12aa4082",
   "metadata": {},
   "source": [
    "This guide is a very simple implementation for a linear regression predition problem. In other words, we will be using the *gradient descent algorithim* to predict the regression coefficients (or *features* in ML terminology). This guide is based on a Medium [post](https://towardsdatascience.com/linear-regression-using-gradient-descent-97a6c8700931) written by [Adarsh Menon](https://www.youtube.com/adarshmenon), and will serve as a building block for more complicated versions of this model."
   ]
  },
  {
   "cell_type": "markdown",
   "id": "e2f9c9ba",
   "metadata": {},
   "source": [
    "Here's a sketch of what we'll be doing:\n",
    "- **Creating a synthetic dataset** <br> \n",
    "Here we will define some \"ground-truth parameters\" (namely the slope and error/bias terms) to build an artificial dataset \n",
    "\n",
    "- **Define the model** <br>\n",
    "The model relates the input and parameters to the output. In our simple case, we will be trying to find the output $y$ using the classic slope equation $y = mx+ b$.\n",
    "\n",
    "- **Define the loss function**<br>\n",
    "The loss function is an algorithim that tell us how well our predictions is doing — in essence a \"rule of thumb\" that computes the distance between the prediction and \"true\" expected output. Here we will be suing the mean squared error equation as our rule of thumb.\n",
    "\n",
    "- **Training the model**<br>\n",
    "This is the part where we make predictions, and iteratively make changes to our parameter predictions so that it gets closer and closer to the \"ground-truth\". To do so we:\n",
    "    - Initialize parameters (slope $m$ and bias term $b$)\n",
    "    - Repeat until done:\n",
    "        - Compute the gradient (i.e., the derivative of the loss function w.r.t parameters)\n",
    "        - Update our parameters\n",
    "    \n"
   ]
  },
  {
   "cell_type": "markdown",
   "id": "bee4d8e7",
   "metadata": {},
   "source": [
    "### Creating Synthetic Dataset, Defining the Model"
   ]
  },
  {
   "cell_type": "markdown",
   "id": "294dc0fa",
   "metadata": {},
   "source": [
    "Here, we will define the \"ground-truth\" parameters:\n",
    "- Slope: $m$ = 0.5\n",
    "- Error/Bias Term: $c \\sim \\mathcal{N}(0, 0.1)$"
   ]
  },
  {
   "cell_type": "code",
   "execution_count": 16,
   "id": "ca9de7ad",
   "metadata": {},
   "outputs": [],
   "source": [
    "# Import libraries\n",
    "import numpy as np\n",
    "import pandas as pd\n",
    "import matplotlib.pyplot as plt \n",
    "\n",
    "# Creating an artifical dataset\n",
    "X = np.random.normal(0,1, 1000)\n",
    "c = np.random.normal(0, 0.1, 1000)\n",
    "m = 0.5\n",
    "\n",
    "#Defining the model\n",
    "y = m*X + c"
   ]
  },
  {
   "cell_type": "markdown",
   "id": "bcf078dc",
   "metadata": {},
   "source": [
    "It's always a good habit to check and make sure that the dimensions of our synthetic dataset are correct. "
   ]
  },
  {
   "cell_type": "code",
   "execution_count": 17,
   "id": "ada82516",
   "metadata": {},
   "outputs": [
    {
     "name": "stdout",
     "output_type": "stream",
     "text": [
      "The dimensions for X are: (1000,)\n",
      "The dimensions for Y are: (1000,)\n"
     ]
    }
   ],
   "source": [
    "print('The dimensions for X are:', X.shape)\n",
    "print('The dimensions for Y are:', y.shape)"
   ]
  },
  {
   "cell_type": "markdown",
   "id": "9955231a",
   "metadata": {},
   "source": [
    "We can also display this in a scatterplot."
   ]
  },
  {
   "cell_type": "code",
   "execution_count": 18,
   "id": "e3c17b6b",
   "metadata": {},
   "outputs": [
    {
     "data": {
      "image/png": "[encoded data removed]",
      "text/plain": [
       "<Figure size 432x288 with 1 Axes>"
      ]
     },
     "metadata": {
      "needs_background": "light"
     },
     "output_type": "display_data"
    }
   ],
   "source": [
    "plt.title(\"Synthetic Dataset\");\n",
    "plt.scatter(X,y);\n",
    "plt.xlabel(\"X\");\n",
    "plt.ylabel(\"y\");"
   ]
  },
  {
   "cell_type": "markdown",
   "id": "931ee5dd",
   "metadata": {},
   "source": [
    "### Defining the loss function"
   ]
  },
  {
   "cell_type": "markdown",
   "id": "2d4da71b",
   "metadata": {},
   "source": [
    "The loss function is given by the mean squared error equation, which is:"
   ]
  },
  {
   "cell_type": "markdown",
   "id": "c44681d1",
   "metadata": {},
   "source": [
    "$E = \\frac{1}{n}\\sum\\limits_{i=0}^{n}(y_i-\\hat{y_i})^2$"
   ]
  },
  {
   "cell_type": "markdown",
   "id": "12a1f7ad",
   "metadata": {},
   "source": [
    "where $\\hat{y_i}$ represents our predicted output. Recall from calculus that we take the gradient to find the direction of steepest ascent. Thus, to minimize the loss function (which is to find the local minimum), we take the negative partial derivative of our loss function with respect to the parameters."
   ]
  },
  {
   "cell_type": "markdown",
   "id": "c224f09e",
   "metadata": {},
   "source": [
    "$D_m = \\frac{-2}{n}\\sum\\limits_{i=0}^{n}x_i(y_i-\\hat{y_i})$<br>\n",
    "$D_c = \\frac{-2}{n}\\sum\\limits_{i=0}^{n}(y_i-\\hat{y_i})$"
   ]
  },
  {
   "cell_type": "markdown",
   "id": "30a4ea26",
   "metadata": {},
   "source": [
    "### Training the model "
   ]
  },
  {
   "cell_type": "markdown",
   "id": "86a9d9af",
   "metadata": {},
   "source": [
    "Before we train the model, we should also define some terminologies. An **epoch** is defined as one complete pass of the training dataset through the algorithim (e.g., if the dataset has 1000 rows of inputs, that means going through all 1000 inputs once). The **learning rate** is the step size of each iteration that is moving towards the minimum of a loss function; the smaller the \"step size\", the more precise our adjustments will be (but also computationally tiring)."
   ]
  },
  {
   "cell_type": "code",
   "execution_count": 25,
   "id": "a2cd81a0",
   "metadata": {},
   "outputs": [
    {
     "name": "stdout",
     "output_type": "stream",
     "text": [
      "Predicted m: 0.49925294744052695  Predicted c: 0.008160873811654841\n"
     ]
    }
   ],
   "source": [
    "# Initializing value\n",
    "m_pred = 0\n",
    "c_pred = 0\n",
    "\n",
    "L = 0.001 # Learning Rate\n",
    "epochs = 5000 # Try adjusting this parameter: if this value is too small, you won't get a good result \n",
    "n = float(len(X))\n",
    "\n",
    "for i in range(epochs):\n",
    "  y_pred = m_pred * X + c_pred\n",
    "  D_m = (-2/n) * sum(X * (y - y_pred)) # Differentiated Loss function\n",
    "  D_c = (-2/n) * sum(y - y_pred) # Differentiated Loss Function\n",
    "  m_pred = m_pred - L * D_m # Update m\n",
    "  c_pred = c_pred - L * D_c # Update c\n",
    "  #print(m_pred, c_pred) # Uncomment this to see the predictions that is made every epoch\n",
    "\n",
    "print('Predicted m:', m_pred,' Predicted c:', c_pred)"
   ]
  },
  {
   "cell_type": "markdown",
   "id": "430df7c2",
   "metadata": {},
   "source": [
    "Let's display the equation of our prediction."
   ]
  },
  {
   "cell_type": "code",
   "execution_count": 26,
   "id": "7fab6656",
   "metadata": {},
   "outputs": [
    {
     "data": {
      "image/png": "[encoded data removed]",
      "text/plain": [
       "<Figure size 432x288 with 1 Axes>"
      ]
     },
     "metadata": {
      "needs_background": "light"
     },
     "output_type": "display_data"
    }
   ],
   "source": [
    "# Making predictions \n",
    "y_pred = m_pred * X + c_pred # Predicted Regression line\n",
    "plt.scatter(X,y) # Scatterplot of original Data\n",
    "plt.plot([min(X), max(X)], [min(y_pred), max(y_pred)], color='red')  # Displaying predicted Regression line\n",
    "plt.show()"
   ]
  },
  {
   "cell_type": "code",
   "execution_count": null,
   "id": "08dbcf7c",
   "metadata": {},
   "outputs": [],
   "source": []
  }
 ],
 "metadata": {
  "kernelspec": {
   "display_name": "Python 3 (ipykernel)",
   "language": "python",
   "name": "python3"
  },
  "language_info": {
   "codemirror_mode": {
    "name": "ipython",
    "version": 3
   },
   "file_extension": ".py",
   "mimetype": "text/x-python",
   "name": "python",
   "nbconvert_exporter": "python",
   "pygments_lexer": "ipython3",
   "version": "3.9.7"
  }
 },
 "nbformat": 4,
 "nbformat_minor": 5
}

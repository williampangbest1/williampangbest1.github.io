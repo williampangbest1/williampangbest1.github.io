{
 "cells": [
  {
   "cell_type": "markdown",
   "id": "01f9b512",
   "metadata": {},
   "source": [
    "# Introduction to Python\n",
    "## Last Revised: Feb 2, 2023\n",
    "\n",
    "Welcome to \"Introduction to Python\", which is part of the StatLab workshop series. I'm assuming that a lot of people come to the StatLab with experience in R or SPSS, but might be new or a novice to Python. I just wanted to say that you shouldn't be scared of learning Python — as knowledge in R or SASS sets you up with a lot of the basic intutition for coding in Python, and you're already ahead of the curve! \n",
    "\n",
    "With that being said, let's begin!\n",
    "\n",
    "### Strings \n",
    "\n",
    "Let's begin with the most classic coding example, which is to print out the `Hello World` statement."
   ]
  },
  {
   "cell_type": "code",
   "execution_count": 1,
   "id": "5ab9cbf5",
   "metadata": {},
   "outputs": [
    {
     "name": "stdout",
     "output_type": "stream",
     "text": [
      "Hello World\n"
     ]
    }
   ],
   "source": [
    "print(\"Hello World\")\n",
    "\n",
    "# You could also use single quotation marks, i.e.,\n",
    "# print('Hello World')\n",
    "\n",
    "# Can you think of a situation where a single quotation mark might not be optimal? \n",
    "# Hint: Try printing the name of a TV show based on an American medical drama starring Patrick Dempsey?"
   ]
  },
  {
   "cell_type": "markdown",
   "id": "8121c824",
   "metadata": {},
   "source": [
    "You could also assign a variable to `Hello World` and print it out."
   ]
  },
  {
   "cell_type": "code",
   "execution_count": 2,
   "id": "3ae36f6a",
   "metadata": {},
   "outputs": [
    {
     "name": "stdout",
     "output_type": "stream",
     "text": [
      "Hello World\n"
     ]
    }
   ],
   "source": [
    "message = \"Hello World\"\n",
    "print(message)"
   ]
  },
  {
   "cell_type": "markdown",
   "id": "280536f7",
   "metadata": {},
   "source": [
    "We can also think of the string as a *string of individual characters*. Now let's try and guess how many characters are there in the sentence `Hello World`, before applying a function that helps us find that. *Hint: White spaces are also counted as characters (and hence are called white space characters)**."
   ]
  },
  {
   "cell_type": "code",
   "execution_count": 3,
   "id": "0b3f8c51",
   "metadata": {},
   "outputs": [
    {
     "name": "stdout",
     "output_type": "stream",
     "text": [
      "11\n"
     ]
    }
   ],
   "source": [
    "# Use the 'len' function (which stands for length) to find the length of an object\n",
    "\n",
    "print(len(message))"
   ]
  },
  {
   "cell_type": "markdown",
   "id": "8535e59d",
   "metadata": {},
   "source": [
    "Since the message ```Hello World``` is a set of characters, we should be able to find the specific character by looking at the index. In other words, if we call `message[some_number]`, we should be able to find the location for the specific letter."
   ]
  },
  {
   "cell_type": "code",
   "execution_count": 4,
   "id": "33cdf6c4",
   "metadata": {},
   "outputs": [
    {
     "ename": "IndexError",
     "evalue": "string index out of range",
     "output_type": "error",
     "traceback": [
      "\u001b[0;31m---------------------------------------------------------------------------\u001b[0m",
      "\u001b[0;31mIndexError\u001b[0m                                Traceback (most recent call last)",
      "\u001b[0;32m/var/folders/8l/3q8kb6cj4jjd1fdhszldztsc0000gn/T/ipykernel_27178/3942353731.py\u001b[0m in \u001b[0;36m<module>\u001b[0;34m\u001b[0m\n\u001b[0;32m----> 1\u001b[0;31m \u001b[0mprint\u001b[0m\u001b[0;34m(\u001b[0m\u001b[0mmessage\u001b[0m\u001b[0;34m[\u001b[0m\u001b[0;36m11\u001b[0m\u001b[0;34m]\u001b[0m\u001b[0;34m)\u001b[0m\u001b[0;34m\u001b[0m\u001b[0;34m\u001b[0m\u001b[0m\n\u001b[0m\u001b[1;32m      2\u001b[0m \u001b[0;34m\u001b[0m\u001b[0m\n\u001b[1;32m      3\u001b[0m \u001b[0;31m# Woah, this doesn't work!\u001b[0m\u001b[0;34m\u001b[0m\u001b[0;34m\u001b[0m\u001b[0m\n",
      "\u001b[0;31mIndexError\u001b[0m: string index out of range"
     ]
    }
   ],
   "source": [
    "print(message[11]) # Returns a IndexError\n",
    "\n",
    "# Woah, this doesn't work! "
   ]
  },
  {
   "cell_type": "markdown",
   "id": "1e5af925",
   "metadata": {},
   "source": [
    "Whoops, an **Index Error** message (i.e., your code is trying to access an index that is invalid). Didn't we say that there are 11 indexes in the sentence `Hello World`? This is because Python indexes at 0. In other words, what we want to get the letter `d` is:\n"
   ]
  },
  {
   "cell_type": "code",
   "execution_count": 5,
   "id": "002678a3",
   "metadata": {},
   "outputs": [
    {
     "name": "stdout",
     "output_type": "stream",
     "text": [
      "d\n"
     ]
    }
   ],
   "source": [
    "print(message[10])\n",
    "\n",
    "# To get the letter 'H', we reference the 0th index, i.e., print(message[0])"
   ]
  },
  {
   "cell_type": "markdown",
   "id": "7e0d460e",
   "metadata": {},
   "source": [
    "One feature that you might find in Python but not other languages is that each class (so far, we've only been working with the string class) contains a certain set of methods. For instance, we could turn our `Hello World` message to all upper-case."
   ]
  },
  {
   "cell_type": "code",
   "execution_count": 6,
   "id": "32bd146c",
   "metadata": {},
   "outputs": [
    {
     "name": "stdout",
     "output_type": "stream",
     "text": [
      "HELLO WORLD\n"
     ]
    }
   ],
   "source": [
    "print(message.upper())"
   ]
  },
  {
   "cell_type": "markdown",
   "id": "e4ff49f6",
   "metadata": {},
   "source": [
    "For now, remember that when you call in a method, you need to include parentheses. This dives into a bit about object-orientated programming (which is a bit more advnaced topic), but the logic behind this is that you're passing the message `Hello World` through a function that turns letters into uppercase (i.e., ```upper(insert_characters_here)```). <br><br>\n",
    "In fact, to access all the methods that are associated with the string class, we can use:"
   ]
  },
  {
   "cell_type": "code",
   "execution_count": 7,
   "id": "ff636a2c",
   "metadata": {},
   "outputs": [
    {
     "name": "stdout",
     "output_type": "stream",
     "text": [
      "['__add__', '__class__', '__contains__', '__delattr__', '__dir__', '__doc__', '__eq__', '__format__', '__ge__', '__getattribute__', '__getitem__', '__getnewargs__', '__gt__', '__hash__', '__init__', '__init_subclass__', '__iter__', '__le__', '__len__', '__lt__', '__mod__', '__mul__', '__ne__', '__new__', '__reduce__', '__reduce_ex__', '__repr__', '__rmod__', '__rmul__', '__setattr__', '__sizeof__', '__str__', '__subclasshook__', 'capitalize', 'casefold', 'center', 'count', 'encode', 'endswith', 'expandtabs', 'find', 'format', 'format_map', 'index', 'isalnum', 'isalpha', 'isascii', 'isdecimal', 'isdigit', 'isidentifier', 'islower', 'isnumeric', 'isprintable', 'isspace', 'istitle', 'isupper', 'join', 'ljust', 'lower', 'lstrip', 'maketrans', 'partition', 'removeprefix', 'removesuffix', 'replace', 'rfind', 'rindex', 'rjust', 'rpartition', 'rsplit', 'rstrip', 'split', 'splitlines', 'startswith', 'strip', 'swapcase', 'title', 'translate', 'upper', 'zfill']\n"
     ]
    }
   ],
   "source": [
    "print(dir(str))"
   ]
  },
  {
   "cell_type": "markdown",
   "id": "9909864d",
   "metadata": {},
   "source": [
    "This is not terribly important to remember now, but can prove useful later, especially when using packages that can run powerful models. <br>\n",
    "\n",
    "<br> Finally, we can also print multiple string statements in one line of code, allowing for the ability to mix and match string and characters. "
   ]
  },
  {
   "cell_type": "code",
   "execution_count": 8,
   "id": "c0784857",
   "metadata": {},
   "outputs": [
    {
     "name": "stdout",
     "output_type": "stream",
     "text": [
      "Hello, my name is Will\n"
     ]
    }
   ],
   "source": [
    "name = \"Will\"\n",
    "\n",
    "print(\"Hello, my name is\" + \" \" + name)\n",
    "\n",
    "# Note that we need to include \" \" because spaces are characters too!"
   ]
  },
  {
   "cell_type": "markdown",
   "id": "e0d30708",
   "metadata": {},
   "source": [
    "There are really many ways to do this, mainly because Python is inspired and built upon older programming lanugages. I generally prefer using printf (print formatted), which is an homage to C programming and in my mind is the most intuitive. "
   ]
  },
  {
   "cell_type": "code",
   "execution_count": 1,
   "id": "e22005d8",
   "metadata": {},
   "outputs": [
    {
     "name": "stdout",
     "output_type": "stream",
     "text": [
      "Hello, my name is Will\n"
     ]
    }
   ],
   "source": [
    "name = \"Will\"\n",
    "\n",
    "print(f\"Hello, my name is {name}\")"
   ]
  },
  {
   "cell_type": "markdown",
   "id": "3c0476c0",
   "metadata": {},
   "source": [
    "### Integers and Floats\n",
    "\n",
    "Before we dive more into coding complex tools, it is important to understand how to perform basic mathematical operations in Python. Let's begin by assigning a value to our variables and performing a simple addition. "
   ]
  },
  {
   "cell_type": "code",
   "execution_count": 52,
   "id": "7bdf7631",
   "metadata": {},
   "outputs": [
    {
     "name": "stdout",
     "output_type": "stream",
     "text": [
      "5\n"
     ]
    }
   ],
   "source": [
    "# Assign a variables \n",
    "a = 3\n",
    "b = 2\n",
    "\n",
    "# Addition \n",
    "print(a + b)"
   ]
  },
  {
   "cell_type": "markdown",
   "id": "61a799fd",
   "metadata": {},
   "source": [
    "To perform multiplication, we use the ```*``` operator. And to perform exponentials, we use the ```**``` operator. "
   ]
  },
  {
   "cell_type": "code",
   "execution_count": 53,
   "id": "8b2e265f",
   "metadata": {},
   "outputs": [
    {
     "name": "stdout",
     "output_type": "stream",
     "text": [
      "Multiplication: 6\n",
      "Exponential: 9\n"
     ]
    }
   ],
   "source": [
    "# Multiplication:\n",
    "print(f\"Multiplication: {a* b}\")\n",
    "\n",
    "# Expoential:\n",
    "print(f\"Exponential: {a ** b}\")"
   ]
  },
  {
   "cell_type": "markdown",
   "id": "836725b1",
   "metadata": {},
   "source": [
    "To perform division, we use the ```/``` operator. And to perform a floor division that only returns the largest integer (i.e., the decimal points gets truncated and we are returned an integer), we use the ```//``` operator. "
   ]
  },
  {
   "cell_type": "code",
   "execution_count": 54,
   "id": "564c53ee",
   "metadata": {},
   "outputs": [
    {
     "name": "stdout",
     "output_type": "stream",
     "text": [
      "Division: 1.5\n",
      "Floor Division: 1\n"
     ]
    }
   ],
   "source": [
    "# Division:\n",
    "print(f\"Division: {a / b}\")\n",
    "\n",
    "# Floor Division:\n",
    "print(f\"Floor Division: {a // b}\")"
   ]
  },
  {
   "cell_type": "markdown",
   "id": "a5c90a1c",
   "metadata": {},
   "source": [
    "The modulus operator, which returns the remainder of the divison (recall your long division) is also commonly used in programming. Most notably, it can tell us whether an integer is even or odd when you take the modulus of 2."
   ]
  },
  {
   "cell_type": "code",
   "execution_count": 56,
   "id": "77eb4487",
   "metadata": {},
   "outputs": [
    {
     "name": "stdout",
     "output_type": "stream",
     "text": [
      "The modulus of 3 by 4 is : 3\n",
      "The modulus of 3 by 2 is 1: True\n"
     ]
    }
   ],
   "source": [
    "# Just to refresh your long division \n",
    "print(f\"The modulus of 3 by 4 is : {3 % 4}\")\n",
    "\n",
    "# Is 3 an even or odd number? 0 for yes, 1 for No. \n",
    "print(f\"The modulus of 3 by 2 is 1: {a % b == 1}\")"
   ]
  },
  {
   "cell_type": "markdown",
   "id": "1aef9f43",
   "metadata": {},
   "source": [
    "We can also perform operations on the variables themselves. For instance, one common use is to write a counter which incrememnts by 1 whenever an operation is completed (this is mostly used in for-loops, but more on that later) and done over and over again."
   ]
  },
  {
   "cell_type": "code",
   "execution_count": 14,
   "id": "bf570bf4",
   "metadata": {},
   "outputs": [
    {
     "name": "stdout",
     "output_type": "stream",
     "text": [
      "1\n"
     ]
    }
   ],
   "source": [
    "# Define the counter\n",
    "counter = 0\n",
    "\n",
    "# A simple way to increment our counter by 1. Note that the operation is performed on the R.H.S (right hand side)\n",
    "counter = counter + 1\n",
    "\n",
    "print(counter)"
   ]
  },
  {
   "cell_type": "markdown",
   "id": "810f7e57",
   "metadata": {},
   "source": [
    "Another (and more elegant) way to do this would be to use the ```+=``` construct."
   ]
  },
  {
   "cell_type": "code",
   "execution_count": 15,
   "id": "b72ba519",
   "metadata": {},
   "outputs": [
    {
     "name": "stdout",
     "output_type": "stream",
     "text": [
      "1\n",
      "Multiplied by 10: 10\n"
     ]
    }
   ],
   "source": [
    "# Reset the counter\n",
    "counter = 0\n",
    "\n",
    "counter += 1\n",
    "\n",
    "print(counter)\n",
    "\n",
    "# How would you multiply counter by 10?\n",
    "\n",
    "counter *= 10\n",
    "print(f\"Multiplied by 10: {counter}\")"
   ]
  },
  {
   "cell_type": "markdown",
   "id": "3f28f8e4",
   "metadata": {},
   "source": [
    "Lastly, we need to be careful not to assign numerics as characters. For instance:"
   ]
  },
  {
   "cell_type": "code",
   "execution_count": 16,
   "id": "811131d2",
   "metadata": {},
   "outputs": [
    {
     "name": "stdout",
     "output_type": "stream",
     "text": [
      "1005\n"
     ]
    }
   ],
   "source": [
    "# Assign variables\n",
    "num_1 = \"100\"\n",
    "num_2 = \"5\"\n",
    "\n",
    "# Use the plus operator: \n",
    "print(num_1 + num_2)"
   ]
  },
  {
   "cell_type": "markdown",
   "id": "0f6a51a7",
   "metadata": {},
   "source": [
    "Really, this should be simialr to the output we would expect if we tried adding up the words ```Hello``` and ```World```. To do this mathematical operation properly, we need to change the strings back to integers. We can use the `int()` function to force `num_1` and `num_2` as integers instead of strings."
   ]
  },
  {
   "cell_type": "code",
   "execution_count": 17,
   "id": "e571381b",
   "metadata": {},
   "outputs": [
    {
     "name": "stdout",
     "output_type": "stream",
     "text": [
      "105\n"
     ]
    }
   ],
   "source": [
    "print(int(num_1) + int(num_2))"
   ]
  },
  {
   "cell_type": "markdown",
   "id": "31e744f9",
   "metadata": {},
   "source": [
    "### Lists, Tuples, and Dictionaries\n",
    "If you're thinking about using Python for data analysis, lists serve as the foundation of any dataframe. As such, understanding the ins and outs of a list will be crucial and will serve as the foundation for learning more complicated libraries (such as Pandas). Let's begin by creating a list of our own:"
   ]
  },
  {
   "cell_type": "code",
   "execution_count": 35,
   "id": "ce1dcbe0",
   "metadata": {},
   "outputs": [
    {
     "name": "stdout",
     "output_type": "stream",
     "text": [
      "['Yale', 'Harvard', 'Brown', 'Dartmouth']\n"
     ]
    }
   ],
   "source": [
    "ivies = ['Yale', 'Harvard', 'Brown', 'Dartmouth']\n",
    "print(ivies)"
   ]
  },
  {
   "cell_type": "markdown",
   "id": "e5868936",
   "metadata": {},
   "source": [
    "Each item on the list can be accessed by calling its index. For instance, if we wanted to call the last item on the list (i.e., Dartmouth), we can call the last index of the list (remember that indexing starts at 0 — if our list is of length 4, that would mean we want to access index #3). However, if you work with millions and millions of rows of data, recalling the exact index can be clumbersome. "
   ]
  },
  {
   "cell_type": "code",
   "execution_count": 36,
   "id": "45ac388f",
   "metadata": {},
   "outputs": [
    {
     "name": "stdout",
     "output_type": "stream",
     "text": [
      "Method 1: Last item on the list: Dartmouth\n",
      "Method 2 (Preferred): Last item on the list Dartmouth\n"
     ]
    }
   ],
   "source": [
    "print(f\"Method 1: Last item on the list: {ivies[3]}\")\n",
    "print(f\"Method 2 (Preferred): Last item on the list {ivies[-1]}\")"
   ]
  },
  {
   "cell_type": "markdown",
   "id": "c22a50d3",
   "metadata": {},
   "source": [
    "What happens if we only want to print the last two items on the list? "
   ]
  },
  {
   "cell_type": "code",
   "execution_count": 19,
   "id": "d5435331",
   "metadata": {},
   "outputs": [
    {
     "name": "stdout",
     "output_type": "stream",
     "text": [
      "Print last 2 items: ['Brown', 'Dartmouth']\n",
      "Print last 2 items: ['Brown', 'Dartmouth']\n"
     ]
    }
   ],
   "source": [
    "print(f\"Print last 2 items: {ivies[2:4]}\")\n",
    "print(f\"Print last 2 items: {ivies[2:]}\")"
   ]
  },
  {
   "cell_type": "markdown",
   "id": "8aa09adb",
   "metadata": {},
   "source": [
    "Note that when we call ivies[2:4], we should interpret it as [2,4), i.e., inclusive of 2, 3 but exclusive of 4. Another way would just be to write [2:], which means from index 2 to the end of the list. "
   ]
  },
  {
   "cell_type": "markdown",
   "id": "a3999eaa",
   "metadata": {},
   "source": [
    "Okay, say you wanted five schools on the ivies list, and gave this task to your summer intern. We can use the `append` function. Note that the append function modifies the exisiting list only — i.e., it does not return a new list. Hence, trying to assign a variable after an `append` operation will not work (the technical reasons for this relates more to data structures and how to use memory efficiently, but we will not dig too deep into this rabbit hole today). "
   ]
  },
  {
   "cell_type": "code",
   "execution_count": 23,
   "id": "0217147f",
   "metadata": {},
   "outputs": [
    {
     "name": "stdout",
     "output_type": "stream",
     "text": [
      "['Yale', 'Harvard', 'Brown', 'Dartmouth', 'Stanford', 'Princeton', 'Stanford']\n"
     ]
    }
   ],
   "source": [
    "ivies.append(\"Stanford\")\n",
    "print(ivies)\n",
    "\n",
    "# This will not work\n",
    "# ivies = ivies.append(\"Stanford\")"
   ]
  },
  {
   "cell_type": "markdown",
   "id": "1fcebf20",
   "metadata": {},
   "source": [
    "Clearly, Stanford was not invited to the college football meetings. Let's remove it from our list."
   ]
  },
  {
   "cell_type": "code",
   "execution_count": 32,
   "id": "0efbf747",
   "metadata": {},
   "outputs": [
    {
     "name": "stdout",
     "output_type": "stream",
     "text": [
      "['Yale', 'Harvard', 'Brown', 'Dartmouth']\n"
     ]
    }
   ],
   "source": [
    "ivies.remove('Stanford')\n",
    "print(ivies)"
   ]
  },
  {
   "cell_type": "markdown",
   "id": "ddfca99b",
   "metadata": {},
   "source": [
    "Another way of doing this is to `extend` function. However, the item that is added must be a list as well (i.e., you need to add a list to a list — when can this be useful?)"
   ]
  },
  {
   "cell_type": "code",
   "execution_count": 3,
   "id": "f1e3fad4",
   "metadata": {},
   "outputs": [
    {
     "name": "stdout",
     "output_type": "stream",
     "text": [
      "['Yale', 'Harvard', 'Brown', 'Dartmouth', 'Columbia', 'Princeton']\n"
     ]
    }
   ],
   "source": [
    "ivies = ['Yale', 'Harvard', 'Brown', 'Dartmouth']        # Resetting the ivies variable \n",
    "new_school = ['Columbia', 'Princeton']\n",
    "\n",
    "ivies.extend(new_school)\n",
    "print(ivies)"
   ]
  },
  {
   "cell_type": "markdown",
   "id": "fd1d86e4",
   "metadata": {},
   "source": [
    "Now let me introduce `sort`, which sorts the list by alphabetical order."
   ]
  },
  {
   "cell_type": "code",
   "execution_count": 7,
   "id": "a6e6b8a4",
   "metadata": {},
   "outputs": [
    {
     "name": "stdout",
     "output_type": "stream",
     "text": [
      "Original List: ['Brown', 'Columbia', 'Dartmouth', 'Harvard', 'Princeton', 'Yale']\n",
      "Sorted List: ['Brown', 'Columbia', 'Dartmouth', 'Harvard', 'Princeton', 'Yale']\n"
     ]
    }
   ],
   "source": [
    "print(f\"Original List: {ivies}\") # Remind ourselves what the list is like again\n",
    "ivies.sort()\n",
    "print(f\"Sorted List: {ivies}\")"
   ]
  },
  {
   "cell_type": "markdown",
   "id": "f9311247",
   "metadata": {},
   "source": [
    "To sort in descending alphabetical order, we could use the function `reverse`, which basically flips the ordering of the list. However, the `sort` function also has this built in as well, by adding the argument `reverse = True`, which essentially does the same thing."
   ]
  },
  {
   "cell_type": "code",
   "execution_count": 8,
   "id": "e50bad91",
   "metadata": {},
   "outputs": [
    {
     "name": "stdout",
     "output_type": "stream",
     "text": [
      "Alphabetically Reversed List: ['Brown', 'Columbia', 'Dartmouth', 'Harvard', 'Princeton', 'Yale']\n",
      "Alphabetically Sorted List: ['Yale', 'Princeton', 'Harvard', 'Dartmouth', 'Columbia', 'Brown']\n",
      "Alphabetically Reversed List: ['Yale', 'Princeton', 'Harvard', 'Dartmouth', 'Columbia', 'Brown']\n"
     ]
    }
   ],
   "source": [
    "print(f\"Alphabetically Reversed List: {ivies}\")\n",
    "ivies.reverse()\n",
    "print(f\"Alphabetically Sorted List: {ivies}\")\n",
    "ivies.sort(reverse = True)\n",
    "print(f\"Alphabetically Reversed List: {ivies}\")"
   ]
  },
  {
   "cell_type": "markdown",
   "id": "4b09b60f",
   "metadata": {},
   "source": [
    "### For Loops\n",
    "Perhaps one of the most powerful tools in coding is known as the for loop, which is the backbone of automation and completing a lot of repetitive tasks. In short, for loops are used to repeat a section of code a number of times. You will see for loops wherever you are in your coding career, whether in simple automation tasks to topics such as machine learning. For loops in Python, however, have a slightly different syntax as what you might see in other programming languages:"
   ]
  },
  {
   "cell_type": "code",
   "execution_count": 75,
   "id": "ada10ab6",
   "metadata": {},
   "outputs": [
    {
     "name": "stdout",
     "output_type": "stream",
     "text": [
      "Sun: Medication taken.\n",
      "Mon: Medication taken.\n",
      "Tue: Medication taken.\n",
      "Wed: Medication taken.\n",
      "Thu: Medication taken.\n",
      "Fri: Medication taken.\n",
      "Sat: Medication taken.\n"
     ]
    }
   ],
   "source": [
    "for dow in [\"Sun\",\"Mon\",\"Tue\", \"Wed\", \"Thu\", \"Fri\", \"Sat\"]:     # dow = day of week, but you can change this name\n",
    "    print(f\"{dow}: Medication taken.\")"
   ]
  },
  {
   "cell_type": "markdown",
   "id": "a8d6b4be",
   "metadata": {},
   "source": [
    "What's happening here is that the algorithim loops through the block of **indented** code. The number of loops is determined by the number of items in the list (e.g., if there's three items in the list, the function will loop three times). One way to visualize this is to imagine a weekly pill organizer where you open the boxes sequentially based on the day of the week.\n",
    "\n",
    "<img src=\"https://thumbor.forbes.com/thumbor/fit-in/x/https://www.forbes.com/health/wp-content/uploads/2021/08/pill_organizer_feature_getty_creative.jpeg\" width=400 height=400 />\n"
   ]
  },
  {
   "cell_type": "markdown",
   "id": "dc1ddb86",
   "metadata": {},
   "source": [
    "Now it's your turn to try implementing a for loop to print out all the ivy league names sequentially."
   ]
  },
  {
   "cell_type": "code",
   "execution_count": 12,
   "id": "03a4ff33",
   "metadata": {},
   "outputs": [
    {
     "name": "stdout",
     "output_type": "stream",
     "text": [
      "The stored list we have is: ['Yale', 'Princeton', 'Harvard', 'Dartmouth', 'Columbia', 'Brown']\n",
      "\n",
      "Yale\n",
      "Princeton\n",
      "Harvard\n",
      "Dartmouth\n",
      "Columbia\n",
      "Brown\n"
     ]
    }
   ],
   "source": [
    "print(f\"The stored list we have is: {ivies}\\n\")\n",
    "\n",
    "for school_name in ivies:\n",
    "    print(school_name)"
   ]
  },
  {
   "cell_type": "markdown",
   "id": "d9ac0b1b",
   "metadata": {},
   "source": [
    "In addition to the item, you might also want the index of the list (i.e., the order of the item in the list). This is accomplished using the `enumerate` function. "
   ]
  },
  {
   "cell_type": "code",
   "execution_count": 77,
   "id": "47b0549c",
   "metadata": {},
   "outputs": [
    {
     "name": "stdout",
     "output_type": "stream",
     "text": [
      "0 Yale\n",
      "1 Harvard\n",
      "2 Brown\n",
      "3 Dartmouth\n"
     ]
    }
   ],
   "source": [
    "for index, school_name in enumerate(ivies):\n",
    "    print(index, school_name)"
   ]
  },
  {
   "cell_type": "markdown",
   "id": "3b19ca62",
   "metadata": {},
   "source": [
    "In addition, I'd like to introduce dictionaries. We all know that dictionaries give you definition by looking up the word. In Python, dictionaries give you what is called a key-value pair — the ability to use a key to lookup and call a value. I won't go through this in too much detail as you most likely won't be asked to create a dictionary on your own, but it's good to know the fundamentals behind it. Let's start by creating a dictionary of three Ivy League schools with their founding years:"
   ]
  },
  {
   "cell_type": "code",
   "execution_count": 93,
   "id": "44b07f60",
   "metadata": {},
   "outputs": [
    {
     "name": "stdout",
     "output_type": "stream",
     "text": [
      "{'Yale': 1701, 'Harvard': 1636, 'Brown': 1764}\n"
     ]
    }
   ],
   "source": [
    "ivies = {\"Yale\": 1701, \"Harvard\": 1636, \"Brown\": 1764}\n",
    "print(ivies)"
   ]
  },
  {
   "cell_type": "markdown",
   "id": "73bc1721",
   "metadata": {},
   "source": [
    "One item of interest might be to know what are the words stored in our dictionary — or the keys stored in our dictionary. We can call this using the `keys` method:"
   ]
  },
  {
   "cell_type": "code",
   "execution_count": 90,
   "id": "4599458c",
   "metadata": {},
   "outputs": [
    {
     "name": "stdout",
     "output_type": "stream",
     "text": [
      "dict_keys(['Yale', 'Harvard', 'Brown'])\n"
     ]
    }
   ],
   "source": [
    "print(ivies.keys())"
   ]
  },
  {
   "cell_type": "markdown",
   "id": "72078210",
   "metadata": {},
   "source": [
    "To get the founding year of Yale, we can simply call the key from our dictionary."
   ]
  },
  {
   "cell_type": "code",
   "execution_count": 91,
   "id": "143a1d66",
   "metadata": {},
   "outputs": [
    {
     "name": "stdout",
     "output_type": "stream",
     "text": [
      "1701\n"
     ]
    }
   ],
   "source": [
    "print(ivies[\"Yale\"])"
   ]
  },
  {
   "cell_type": "markdown",
   "id": "34a5cb9d",
   "metadata": {},
   "source": [
    "### Conditionals\n",
    "Conditional statements, often referred to as if-else statements, lets you control which pieces of code to run based on whether the condition is met (or not met). Let's work with a very simple math example to show his this works. Let's first define a variable and assign a value to it."
   ]
  },
  {
   "cell_type": "code",
   "execution_count": 94,
   "id": "43329329",
   "metadata": {},
   "outputs": [],
   "source": [
    "number = 4"
   ]
  },
  {
   "cell_type": "markdown",
   "id": "33fe0838",
   "metadata": {},
   "source": [
    "Now, let's write an if-statement to check if the number is truly 4. Note that this is similar to the for-loop we introduced before, where we use identation to indicate the chunk of code we want to run a special operation/command."
   ]
  },
  {
   "cell_type": "code",
   "execution_count": 96,
   "id": "cec40337",
   "metadata": {},
   "outputs": [
    {
     "name": "stdout",
     "output_type": "stream",
     "text": [
      "Yes, the value is four\n"
     ]
    }
   ],
   "source": [
    "if number == 4:\n",
    "    print(\"Yes, the value is four\")"
   ]
  },
  {
   "cell_type": "markdown",
   "id": "70fa1389",
   "metadata": {},
   "source": [
    "Let's try setting the number variable to 5 and see what happens."
   ]
  },
  {
   "cell_type": "code",
   "execution_count": 98,
   "id": "2526f79d",
   "metadata": {},
   "outputs": [],
   "source": [
    "number = 5\n",
    "\n",
    "if number == 4:\n",
    "    print(\"Yes, the value is four\")"
   ]
  },
  {
   "cell_type": "markdown",
   "id": "a5ce8c4d",
   "metadata": {},
   "source": [
    "Woah, nothing happened. This is because the idented chunk of code will not run if it doesn't fulfill the conditional statement. For obvious reasons, this is not good coding practice as we don't get any error messages and hence do not know whether the number is/is not truly 4."
   ]
  },
  {
   "cell_type": "code",
   "execution_count": 99,
   "id": "fe631f4f",
   "metadata": {},
   "outputs": [
    {
     "name": "stdout",
     "output_type": "stream",
     "text": [
      "Number is not 4\n"
     ]
    }
   ],
   "source": [
    "number = 5\n",
    "\n",
    "if number == 4:\n",
    "     print(\"Yes, the value is four\")\n",
    "else:\n",
    "    print(\"Number is not 4\")"
   ]
  },
  {
   "cell_type": "markdown",
   "id": "3112812c",
   "metadata": {},
   "source": [
    "To specificy more than one *else* conditions, we could use the `elif` command. This is generally best coding practice as it provides the most context to your code."
   ]
  },
  {
   "cell_type": "code",
   "execution_count": 103,
   "id": "895e34df",
   "metadata": {},
   "outputs": [
    {
     "name": "stdout",
     "output_type": "stream",
     "text": [
      "Number is greater than 4\n"
     ]
    }
   ],
   "source": [
    "number = 5\n",
    "\n",
    "if number == 4:\n",
    "     print(\"Yes, the value is four\")\n",
    "elif number > 4:\n",
    "    print(\"Number is greater than 4\")\n",
    "else:\n",
    "    print(\"Number is less than four\")"
   ]
  },
  {
   "cell_type": "markdown",
   "id": "5aa53dae",
   "metadata": {},
   "source": [
    "### Loops and Iterations\n",
    "The biggest advantage of a computer is its ability to do repetitive tasks. *Why do the hard work when computers can do it for you? Understanding for loops can help automate your code and run tasks that needs to be done over and over again!* Let's refresh our muscles once again and try to print out all the values of a list."
   ]
  },
  {
   "cell_type": "code",
   "execution_count": 21,
   "id": "71ed1f7a",
   "metadata": {},
   "outputs": [
    {
     "name": "stdout",
     "output_type": "stream",
     "text": [
      "0\n",
      "1\n",
      "2\n",
      "3\n",
      "4\n",
      "4\n",
      "5\n",
      "6\n",
      "7\n",
      "8\n"
     ]
    }
   ],
   "source": [
    "numbers = [0, 1, 2, 3, 4, 4, 5, 6, 7, 8]\n",
    "\n",
    "for number in numbers:\n",
    "    print (number)"
   ]
  },
  {
   "cell_type": "markdown",
   "id": "af2ce88a",
   "metadata": {},
   "source": [
    "Say we know that our list should contain only consecutive numbers ranged from 1 to 8. As a programmer, we want way to stop this automation process (i.e., printing the number) if something goes wrong and let the users know."
   ]
  },
  {
   "cell_type": "code",
   "execution_count": 3,
   "id": "67b3f049",
   "metadata": {},
   "outputs": [
    {
     "name": "stdout",
     "output_type": "stream",
     "text": [
      "1\n",
      "2\n",
      "3\n",
      "We've hit four. Stop printing!\n"
     ]
    }
   ],
   "source": [
    "for number in numbers:\n",
    "    if number == 4:\n",
    "        print(\"We've hit four. Stop printing!\")\n",
    "        break\n",
    "    print(number)"
   ]
  },
  {
   "cell_type": "markdown",
   "id": "18e992ec",
   "metadata": {},
   "source": [
    "There are also times when you want to run through a loop a certain amount of times. To do this, we use the `range` operator. "
   ]
  },
  {
   "cell_type": "code",
   "execution_count": 50,
   "id": "e27b7f68",
   "metadata": {},
   "outputs": [
    {
     "name": "stdout",
     "output_type": "stream",
     "text": [
      "range(0, 9)\n"
     ]
    }
   ],
   "source": [
    "range(9)"
   ]
  },
  {
   "cell_type": "markdown",
   "id": "138f422b",
   "metadata": {},
   "source": [
    "You would expect to get a list from 0 to 8 (i.e, [0, 1, 2... 8]), but what we get in fact is just the address to the variables 0-8. As we've seen earlier with lists, Python was written in a way that allocates memory very efficiently. We won't dive into the details, but to create a list of consecutive values we would need to write a for loop."
   ]
  },
  {
   "cell_type": "code",
   "execution_count": 33,
   "id": "3bbb6f69",
   "metadata": {},
   "outputs": [
    {
     "data": {
      "text/plain": [
       "[0, 1, 2, 3, 4, 5, 6, 7, 8]"
      ]
     },
     "execution_count": 33,
     "metadata": {},
     "output_type": "execute_result"
    }
   ],
   "source": [
    "[i for i in range(9)]"
   ]
  },
  {
   "cell_type": "markdown",
   "id": "6c9ede5e",
   "metadata": {},
   "source": [
    "We could also write something called a nested loop (just like a nested doll) — which is a loop in a loop. Say we have a two four-sided dice, and we want to know all the possible combinations where the values of the two dice don't match:"
   ]
  },
  {
   "cell_type": "code",
   "execution_count": 58,
   "id": "d98f172c",
   "metadata": {},
   "outputs": [
    {
     "name": "stdout",
     "output_type": "stream",
     "text": [
      "2 1\n",
      "3 1\n",
      "3 2\n",
      "4 1\n",
      "4 2\n",
      "4 3\n"
     ]
    }
   ],
   "source": [
    "for number_one in range(1, 5):\n",
    "    for number_two in range(1, 5):\n",
    "        if number_one == number_two:\n",
    "            break\n",
    "        print(number_one, number_two)"
   ]
  },
  {
   "cell_type": "markdown",
   "id": "27126240",
   "metadata": {},
   "source": [
    "As you can see from the output, no rows contain the same number. The idea here is that if the outer number and a current number of the inner loop are the same, then break/exit the inner (nested) loop and return to the outer loop."
   ]
  },
  {
   "cell_type": "markdown",
   "id": "dfc1d9c3",
   "metadata": {},
   "source": [
    "To see how for loops can be used in data analysis, I want us to work with an applied example. But first, let me introduce the `split` function, which might be very handy when used to parse through textual data."
   ]
  },
  {
   "cell_type": "code",
   "execution_count": 29,
   "id": "248fa8a9",
   "metadata": {},
   "outputs": [
    {
     "name": "stdout",
     "output_type": "stream",
     "text": [
      "['I', 'hope', \"you're\", 'well']\n"
     ]
    }
   ],
   "source": [
    "text = \"I hope you're well\"\n",
    "words = text.split()\n",
    "print(words)"
   ]
  },
  {
   "cell_type": "markdown",
   "id": "940d2a9d",
   "metadata": {},
   "source": [
    "As you can see, our sentence is broken up to words. By default, the `split` function splits sentences based on blank characters. \n",
    "\n",
    "Now let's try to compute the number of characters in each of our text. This can be implemented with a simple for loop, with the addition of the `len` function which gives us the length of the string:"
   ]
  },
  {
   "cell_type": "code",
   "execution_count": 33,
   "id": "3a154d20",
   "metadata": {},
   "outputs": [
    {
     "name": "stdout",
     "output_type": "stream",
     "text": [
      "I 1\n",
      "hope 4\n",
      "you're 6\n",
      "well 4\n"
     ]
    }
   ],
   "source": [
    "for word in words:\n",
    "    print(word, len(word))"
   ]
  },
  {
   "cell_type": "markdown",
   "id": "6bda982d",
   "metadata": {},
   "source": [
    "### While loops and the factorial function\n",
    "\n",
    "Since we've covered for loops as well as if-else statements, we should also introduce a while loop, which is basically the mashup of both. In other words, the while loop in Python is used to iterate over a block of code as long as the test expression (condition) is true. Let's now utilize this fact to try and compute the factorial, which is a classic algorithm that you will encounter in any computer science class:"
   ]
  },
  {
   "cell_type": "code",
   "execution_count": 45,
   "id": "b051c900",
   "metadata": {},
   "outputs": [
    {
     "name": "stdout",
     "output_type": "stream",
     "text": [
      "120\n"
     ]
    }
   ],
   "source": [
    "num =  5;\n",
    "answer = 1;\n",
    "    \n",
    "while num > 1:\n",
    "    answer *= num\n",
    "    num -= 1\n",
    "\n",
    "print(answer)"
   ]
  },
  {
   "cell_type": "markdown",
   "id": "dbae37af",
   "metadata": {},
   "source": [
    "What happens if we want to find the factorial of 6, 7, or any other values? We would need to change `num`, and then re-run the cell. This is quite annoying, especially if you have many lines of code and you would like to run the same operation with different input arguments. To make this operation more modular, we can define a function called `factorial`:"
   ]
  },
  {
   "cell_type": "code",
   "execution_count": 46,
   "id": "141b82ae",
   "metadata": {},
   "outputs": [],
   "source": [
    "def factorial(n):\n",
    "    num = 1\n",
    "    while n >= 1:\n",
    "        num *= n;\n",
    "        n -= 1\n",
    "    return num"
   ]
  },
  {
   "cell_type": "markdown",
   "id": "3b3fba06",
   "metadata": {},
   "source": [
    "The keyword `def` introduces a function definition. It must be followed by the function name and the parenthesized list of formal parameters. The statements that form the body of the function start at the next line, and must be indented. Finally, we want a `return` statement that will return a value from the function. If no return statement is given, the function will simply return `none`. \n",
    "\n",
    "Let's now try to find the factorial of 4:"
   ]
  },
  {
   "cell_type": "code",
   "execution_count": 48,
   "id": "b9263c40",
   "metadata": {},
   "outputs": [
    {
     "data": {
      "text/plain": [
       "24"
      ]
     },
     "execution_count": 48,
     "metadata": {},
     "output_type": "execute_result"
    }
   ],
   "source": [
    "factorial(4)"
   ]
  }
 ],
 "metadata": {
  "kernelspec": {
   "display_name": "Python 3 (ipykernel)",
   "language": "python",
   "name": "python3"
  },
  "language_info": {
   "codemirror_mode": {
    "name": "ipython",
    "version": 3
   },
   "file_extension": ".py",
   "mimetype": "text/x-python",
   "name": "python",
   "nbconvert_exporter": "python",
   "pygments_lexer": "ipython3",
   "version": "3.9.7"
  }
 },
 "nbformat": 4,
 "nbformat_minor": 5
}
